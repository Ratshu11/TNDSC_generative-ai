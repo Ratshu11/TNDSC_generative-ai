{
  "metadata": {
    "kernelspec": {
      "language": "python",
      "display_name": "Python 3",
      "name": "python3"
    },
    "language_info": {
      "pygments_lexer": "ipython3",
      "nbconvert_exporter": "python",
      "version": "3.6.4",
      "file_extension": ".py",
      "codemirror_mode": {
        "name": "ipython",
        "version": 3
      },
      "name": "python",
      "mimetype": "text/x-python"
    },
    "kaggle": {
      "accelerator": "none",
      "dataSources": [
        {
          "sourceId": 3404,
          "sourceType": "datasetVersion",
          "datasetId": 1985
        }
      ],
      "dockerImageVersionId": 29661,
      "isInternetEnabled": false,
      "language": "python",
      "sourceType": "notebook",
      "isGpuEnabled": false
    },
    "colab": {
      "name": "notebook828e66b7a3",
      "provenance": [],
      "include_colab_link": true
    }
  },
  "nbformat_minor": 0,
  "nbformat": 4,
  "cells": [
    {
      "cell_type": "markdown",
      "metadata": {
        "id": "view-in-github",
        "colab_type": "text"
      },
      "source": [
        "<a href=\"https://colab.research.google.com/github/Ratshu11/TNDSC_generative-ai/blob/main/E-Commerce.ipynb\" target=\"_parent\"><img src=\"https://colab.research.google.com/assets/colab-badge.svg\" alt=\"Open In Colab\"/></a>"
      ]
    },
    {
      "source": [
        "\n",
        "# IMPORTANT: RUN THIS CELL IN ORDER TO IMPORT YOUR KAGGLE DATA SOURCES\n",
        "# TO THE CORRECT LOCATION (/kaggle/input) IN YOUR NOTEBOOK,\n",
        "# THEN FEEL FREE TO DELETE THIS CELL.\n",
        "# NOTE: THIS NOTEBOOK ENVIRONMENT DIFFERS FROM KAGGLE'S PYTHON\n",
        "# ENVIRONMENT SO THERE MAY BE MISSING LIBRARIES USED BY YOUR\n",
        "# NOTEBOOK.\n",
        "\n",
        "import os\n",
        "import sys\n",
        "from tempfile import NamedTemporaryFile\n",
        "from urllib.request import urlopen\n",
        "from urllib.parse import unquote, urlparse\n",
        "from urllib.error import HTTPError\n",
        "from zipfile import ZipFile\n",
        "import tarfile\n",
        "import shutil\n",
        "\n",
        "CHUNK_SIZE = 40960\n",
        "DATA_SOURCE_MAPPING = 'ecommerce-data:https%3A%2F%2Fstorage.googleapis.com%2Fkaggle-data-sets%2F1985%2F3404%2Fbundle%2Farchive.zip%3FX-Goog-Algorithm%3DGOOG4-RSA-SHA256%26X-Goog-Credential%3Dgcp-kaggle-com%2540kaggle-161607.iam.gserviceaccount.com%252F20240330%252Fauto%252Fstorage%252Fgoog4_request%26X-Goog-Date%3D20240330T062020Z%26X-Goog-Expires%3D259200%26X-Goog-SignedHeaders%3Dhost%26X-Goog-Signature%3D2ea6422a80ed2d35fac5fca38ae09bb1e8a9f18ada012f9aab9ce8ac38852097ed492dc540ab18e60b97ac7e1b3df6c2e9d947b76081d4caa3ffb975368eb4cfbd796cd2a9f314ac08984c932a8256b21a8aeffa4f1d673f40375b48ae6096249149f2ff8ee063e85241015ef575bd12dfdd7269ccbb1e2d1a07b6a29da82030503302a2e9feb863f99661d6a4fa0fba9cbfc622aeda7a1b3b23c22ff3911160f39c6cbba86a9762a454438e0e082ad57f29e04e707f450d9449eb037f5d0458269103b618eaa858c90ba0953409c52566aca561ec4e8eed53c6c7c53c877c998551c883e339cffbda1b5b7f973f0b941f783f83475012fd2ff1a20ffe81b43e'\n",
        "\n",
        "KAGGLE_INPUT_PATH='/kaggle/input'\n",
        "KAGGLE_WORKING_PATH='/kaggle/working'\n",
        "KAGGLE_SYMLINK='kaggle'\n",
        "\n",
        "!umount /kaggle/input/ 2> /dev/null\n",
        "shutil.rmtree('/kaggle/input', ignore_errors=True)\n",
        "os.makedirs(KAGGLE_INPUT_PATH, 0o777, exist_ok=True)\n",
        "os.makedirs(KAGGLE_WORKING_PATH, 0o777, exist_ok=True)\n",
        "\n",
        "try:\n",
        "  os.symlink(KAGGLE_INPUT_PATH, os.path.join(\"..\", 'input'), target_is_directory=True)\n",
        "except FileExistsError:\n",
        "  pass\n",
        "try:\n",
        "  os.symlink(KAGGLE_WORKING_PATH, os.path.join(\"..\", 'working'), target_is_directory=True)\n",
        "except FileExistsError:\n",
        "  pass\n",
        "\n",
        "for data_source_mapping in DATA_SOURCE_MAPPING.split(','):\n",
        "    directory, download_url_encoded = data_source_mapping.split(':')\n",
        "    download_url = unquote(download_url_encoded)\n",
        "    filename = urlparse(download_url).path\n",
        "    destination_path = os.path.join(KAGGLE_INPUT_PATH, directory)\n",
        "    try:\n",
        "        with urlopen(download_url) as fileres, NamedTemporaryFile() as tfile:\n",
        "            total_length = fileres.headers['content-length']\n",
        "            print(f'Downloading {directory}, {total_length} bytes compressed')\n",
        "            dl = 0\n",
        "            data = fileres.read(CHUNK_SIZE)\n",
        "            while len(data) > 0:\n",
        "                dl += len(data)\n",
        "                tfile.write(data)\n",
        "                done = int(50 * dl / int(total_length))\n",
        "                sys.stdout.write(f\"\\r[{'=' * done}{' ' * (50-done)}] {dl} bytes downloaded\")\n",
        "                sys.stdout.flush()\n",
        "                data = fileres.read(CHUNK_SIZE)\n",
        "            if filename.endswith('.zip'):\n",
        "              with ZipFile(tfile) as zfile:\n",
        "                zfile.extractall(destination_path)\n",
        "            else:\n",
        "              with tarfile.open(tfile.name) as tarfile:\n",
        "                tarfile.extractall(destination_path)\n",
        "            print(f'\\nDownloaded and uncompressed: {directory}')\n",
        "    except HTTPError as e:\n",
        "        print(f'Failed to load (likely expired) {download_url} to path {destination_path}')\n",
        "        continue\n",
        "    except OSError as e:\n",
        "        print(f'Failed to load {download_url} to path {destination_path}')\n",
        "        continue\n",
        "\n",
        "print('Data source import complete.')\n"
      ],
      "metadata": {
        "id": "VnyCSSvOBDgZ"
      },
      "cell_type": "code",
      "outputs": [],
      "execution_count": null
    },
    {
      "cell_type": "markdown",
      "source": [
        "We live in the world of e-commerce. We see tons of different stores here and there through the web. Internet made it possible to trade with anyone and everywhere. We can buy goods without leaving our house, we can compare prices in different stores within seconds, we can find what we really want and do not accept just the first more or less suitable offer. And I believe it would be really interesting to look at this world through the data it produces. That's why I decided to play around with e-commerce numbers and try to understand it better.\n",
        "\n",
        "The data used in this analysis is taken from Kaggle dataset [\"E-Commerce Data | Actual transactions of UK retailer\"](https://www.kaggle.com/carrie1/ecommerce-data).\n",
        "\n",
        "This is a transnational data set which contains all the transactions occurring between 01/12/2010 and 09/12/2011 for a UK-based and registered non-store online retail.The company mainly sells unique all-occasion gifts. Many customers of the company are wholesalers."
      ],
      "metadata": {
        "id": "iInTqLqao6Pj"
      }
    },
    {
      "cell_type": "markdown",
      "source": [
        "As always, we start our analysis by setting up our environment and by importing necessary libraries.\n",
        "\n",
        "We import standard numpy and pandas to be able to perform analysis with Python, also we need data visualization libraries matplotlib and seaborn to output interesting visual findings, aaaaand some settings to make our kernel prettier."
      ],
      "metadata": {
        "id": "xJ79qEBuBDgf"
      }
    },
    {
      "cell_type": "markdown",
      "source": [
        "# 1. Import libraries and data"
      ],
      "metadata": {
        "id": "tII5uwykox0s"
      }
    },
    {
      "cell_type": "code",
      "source": [
        "import pandas as pd\n",
        "import numpy as np\n",
        "import matplotlib.pyplot as plt\n",
        "import seaborn as sns\n",
        "\n",
        "import warnings\n",
        "warnings.filterwarnings('ignore')\n",
        "\n",
        "plt.style.use('fivethirtyeight')\n",
        "%matplotlib inline"
      ],
      "metadata": {
        "id": "YhbJLUN2an2n",
        "trusted": true
      },
      "execution_count": null,
      "outputs": []
    },
    {
      "cell_type": "markdown",
      "source": [
        "We import our data using *.read_csv()* method and we also add a parameter \"encoding='latin'\" as default encoding engine wasn't able to process this particular dataset. So next time you have difficulties importing data and everything seems to be correct and OK, check out encoding. That might save you some time of googling to try to understand what's wrong."
      ],
      "metadata": {
        "id": "XVztVN_BBDgg"
      }
    },
    {
      "cell_type": "code",
      "source": [
        "# for Kaggle\n",
        "df = pd.read_csv('/kaggle/input/ecommerce-data/data.csv', encoding='latin')\n",
        "# df = pd.read_csv('data.csv', encoding='latin')\n",
        "df.head()"
      ],
      "metadata": {
        "id": "MeUgjP_ga6z_",
        "trusted": true
      },
      "execution_count": null,
      "outputs": []
    },
    {
      "cell_type": "markdown",
      "source": [
        "Just by looking at first 5 rows of our table we can understand the structure and datatypes present in our dataset. We can notice that we will have to deal with timeseries data, integers and floats, categorical and text data."
      ],
      "metadata": {
        "id": "n9RV7OuyBDgg"
      }
    },
    {
      "cell_type": "markdown",
      "source": [
        "# 2. Exploratory data analysis"
      ],
      "metadata": {
        "id": "lqlGgcdiqAos"
      }
    },
    {
      "cell_type": "markdown",
      "source": [
        "Every data science project starts with EDA as we have to understand what do we have to deal with. I divide EDA into 2 types: visual and numerical. Let's start with numerical as the simple pndas method *.describe()* gives us a lot of useful information."
      ],
      "metadata": {
        "id": "JqSXXhBSBDgh"
      }
    },
    {
      "cell_type": "markdown",
      "source": [
        "## 2.1. Quick statistical overview"
      ],
      "metadata": {
        "id": "G0XGUAZFrk6v"
      }
    },
    {
      "cell_type": "code",
      "source": [
        "df.describe()"
      ],
      "metadata": {
        "id": "pE4rxL-ZfwAe",
        "trusted": true
      },
      "execution_count": null,
      "outputs": []
    },
    {
      "cell_type": "markdown",
      "source": [
        "Just a quick look at data with *.describe()* method gives us a lot of space to think. We see negative quantities and prices, we can see that not all records have CustomerID data, we can also see that the majority of transactions are for quantites from 3 to 10 items, majority of items have price up to 5 pounds and that we have a bunch of huge outliers we will have to deal with later."
      ],
      "metadata": {
        "id": "LOSySaN7qUdX"
      }
    },
    {
      "cell_type": "markdown",
      "source": [
        "## 2.2. Dealing with types"
      ],
      "metadata": {
        "id": "r_MIrqRYrqrG"
      }
    },
    {
      "cell_type": "markdown",
      "source": [
        "*.read_csv()* method performs basic type check, but it doesn't do that perfectly. That's why it is much better to deal with data types in our dataframe before any modifications to prevent additional difficulties. Every pandas dataframe has an attribute *.dtypes* which will help us understand what we currently have and what data has to be casted to correct types."
      ],
      "metadata": {
        "id": "0OGaC7CbBDgi"
      }
    },
    {
      "cell_type": "code",
      "source": [
        "df.dtypes"
      ],
      "metadata": {
        "id": "XY4J_0KBqJGe",
        "trusted": true
      },
      "execution_count": null,
      "outputs": []
    },
    {
      "cell_type": "markdown",
      "source": [
        "If we have datetime data it's better to cast it to datetime type. We don't touch InvoiceNo for now as it seems like data in this column has not only numbers. (we saw just first 5 rows, while pandas during import scanned all the data and found that the type here is not numerical)."
      ],
      "metadata": {
        "id": "iRgA1W66rTtM"
      }
    },
    {
      "cell_type": "code",
      "source": [
        "df['InvoiceDate'] = pd.to_datetime(df['InvoiceDate'])\n",
        "df = df.set_index('InvoiceDate')"
      ],
      "metadata": {
        "id": "qQ6gDvmV8a69",
        "trusted": true
      },
      "execution_count": null,
      "outputs": []
    },
    {
      "cell_type": "markdown",
      "source": [
        "## 2.3. Dealing with null values"
      ],
      "metadata": {
        "id": "UWSslxBNrgqG"
      }
    },
    {
      "cell_type": "markdown",
      "source": [
        "Next and very important step is dealing with missing values. Normally if you encounter null values in the dataset you have to understand nature of those null values and possible impact they could have on the model. There are few strategies that we can use to fix our issue with null values:\n",
        "* delete rows with null values\n",
        "* delete the feature with null values\n",
        "* impute data with mean or median values or use another imputing strategy (method *.fillna()*)\n",
        "\n",
        "Let's check out what we have here."
      ],
      "metadata": {
        "id": "abVKfPt2BDgi"
      }
    },
    {
      "cell_type": "code",
      "source": [
        "df.isnull().sum()"
      ],
      "metadata": {
        "id": "5TDxDE_NgR-_",
        "trusted": true
      },
      "execution_count": null,
      "outputs": []
    },
    {
      "cell_type": "markdown",
      "source": [
        "CustomerID has too much null values and this feature cannot predict a lot so we can just drop it. Also it could be reasonable to create another feature \"Amount of orders per customer\", but.... next time ;)"
      ],
      "metadata": {
        "id": "lmL-TjEIr8Tz"
      }
    },
    {
      "cell_type": "code",
      "source": [
        "df = df.drop(columns=['CustomerID'])"
      ],
      "metadata": {
        "id": "qZHLLtsRqPTA",
        "trusted": true
      },
      "execution_count": null,
      "outputs": []
    },
    {
      "cell_type": "markdown",
      "source": [
        "Let's check out what kind of nulls we have in Description"
      ],
      "metadata": {
        "id": "_oFg_pKssgLp"
      }
    },
    {
      "cell_type": "code",
      "source": [
        "df[df['Description'].isnull()].head()"
      ],
      "metadata": {
        "id": "rQkkpcUnsqef",
        "trusted": true
      },
      "execution_count": null,
      "outputs": []
    },
    {
      "cell_type": "markdown",
      "source": [
        "The data in these rows is pretty strange as UnitPrice is 0, so these orders do not generate any sales. I think, we can impute it with \"UNKNOWN ITEM\" at the moment and deal with those later during the analysis."
      ],
      "metadata": {
        "id": "RrpxM_SasxCU"
      }
    },
    {
      "cell_type": "code",
      "source": [
        "df['Description'] = df['Description'].fillna('UNKNOWN ITEM')\n",
        "df.isnull().sum()"
      ],
      "metadata": {
        "id": "eIIq-a31t3mm",
        "trusted": true
      },
      "execution_count": null,
      "outputs": []
    },
    {
      "cell_type": "markdown",
      "source": [
        "## 2.4. Checking out columns separately"
      ],
      "metadata": {
        "id": "B_RRuBfHyzKm"
      }
    },
    {
      "cell_type": "markdown",
      "source": [
        "Also it makes sense to go feature by feature and check what pitfalls we have in our data and also to understand our numbers better."
      ],
      "metadata": {
        "id": "yZrM56UMBDgj"
      }
    },
    {
      "cell_type": "markdown",
      "source": [
        "Let's continue checking Description column. Here we can see items that were bought most often."
      ],
      "metadata": {
        "id": "rGmT3rxntRwp"
      }
    },
    {
      "cell_type": "code",
      "source": [
        "df['Description'].value_counts().head()"
      ],
      "metadata": {
        "id": "2zRnyeufgBDa",
        "trusted": true
      },
      "execution_count": null,
      "outputs": []
    },
    {
      "cell_type": "markdown",
      "source": [
        "Here we can see our best selling products, items that appear in orders the most often. Also to make it visually more appealing let's create a bar chart for 15 top items."
      ],
      "metadata": {
        "id": "DuHApD3TBDgj"
      }
    },
    {
      "cell_type": "code",
      "source": [
        "item_counts = df['Description'].value_counts().sort_values(ascending=False).iloc[0:15]\n",
        "plt.figure(figsize=(18,6))\n",
        "sns.barplot(item_counts.index, item_counts.values, palette=sns.cubehelix_palette(15))\n",
        "plt.ylabel(\"Counts\")\n",
        "plt.title(\"Which items were bought more often?\");\n",
        "plt.xticks(rotation=90);"
      ],
      "metadata": {
        "id": "JuNgVd6PGt7Y",
        "trusted": true
      },
      "execution_count": null,
      "outputs": []
    },
    {
      "cell_type": "code",
      "source": [
        "df['Description'].value_counts().tail()"
      ],
      "metadata": {
        "trusted": true,
        "id": "7tkRR6bQBDgk"
      },
      "execution_count": null,
      "outputs": []
    },
    {
      "cell_type": "markdown",
      "source": [
        "We also notice from above code that valid items are normally uppercased and non-valid or cancelations are in lower case"
      ],
      "metadata": {
        "id": "pgxFvFL0xEL4"
      }
    },
    {
      "cell_type": "code",
      "source": [
        "df[~df['Description'].str.isupper()]['Description'].value_counts().head()"
      ],
      "metadata": {
        "id": "0RMbj7vsu3kZ",
        "trusted": true
      },
      "execution_count": null,
      "outputs": []
    },
    {
      "cell_type": "markdown",
      "source": [
        "Quick check of the case of letters in Description says that there are some units with lower case letters in their name and also that lower case records are for canceled items. Here we can understand that data management in the store can be improved."
      ],
      "metadata": {
        "id": "Xhy8gh0xBDgk"
      }
    },
    {
      "cell_type": "code",
      "source": [
        "lcase_counts = df[~df['Description'].str.isupper()]['Description'].value_counts().sort_values(ascending=False).iloc[0:15]\n",
        "plt.figure(figsize=(18,6))\n",
        "sns.barplot(lcase_counts.index, lcase_counts.values, palette=sns.color_palette(\"hls\", 15))\n",
        "plt.ylabel(\"Counts\")\n",
        "plt.title(\"Not full upper case items\");\n",
        "plt.xticks(rotation=90);"
      ],
      "metadata": {
        "id": "YxTPItIwJQTV",
        "trusted": true
      },
      "execution_count": null,
      "outputs": []
    },
    {
      "cell_type": "markdown",
      "source": [
        "ALso checking out stoke codes, looks like they are deeply correlated with descriptions - which makes perfect sense."
      ],
      "metadata": {
        "id": "FIdbxmgjxnV9"
      }
    },
    {
      "cell_type": "code",
      "source": [
        "df['StockCode'].value_counts().head()"
      ],
      "metadata": {
        "id": "Ifuzm9k3wiZC",
        "trusted": true
      },
      "execution_count": null,
      "outputs": []
    },
    {
      "cell_type": "code",
      "source": [
        "stock_counts = df['StockCode'].value_counts().sort_values(ascending=False).iloc[0:15]\n",
        "plt.figure(figsize=(18,6))\n",
        "sns.barplot(stock_counts.index, stock_counts.values, palette=sns.color_palette(\"GnBu_d\"))\n",
        "plt.ylabel(\"Counts\")\n",
        "plt.title(\"Which stock codes were used the most?\");\n",
        "plt.xticks(rotation=90);"
      ],
      "metadata": {
        "id": "mYNaQ_KmK6YH",
        "trusted": true
      },
      "execution_count": null,
      "outputs": []
    },
    {
      "cell_type": "markdown",
      "source": [
        "Checking out also InvoiceNo feature."
      ],
      "metadata": {
        "id": "CyIqQt3rx3eo"
      }
    },
    {
      "cell_type": "code",
      "source": [
        "df['InvoiceNo'].value_counts().tail()"
      ],
      "metadata": {
        "id": "-07Q-Xp3xjSU",
        "trusted": true
      },
      "execution_count": null,
      "outputs": []
    },
    {
      "cell_type": "code",
      "source": [
        "inv_counts = df['InvoiceNo'].value_counts().sort_values(ascending=False).iloc[0:15]\n",
        "plt.figure(figsize=(18,6))\n",
        "sns.barplot(inv_counts.index, inv_counts.values, palette=sns.color_palette(\"BuGn_d\"))\n",
        "plt.ylabel(\"Counts\")\n",
        "plt.title(\"Which invoices had the most items?\");\n",
        "plt.xticks(rotation=90);"
      ],
      "metadata": {
        "id": "5aSNIrR4LnuS",
        "trusted": true
      },
      "execution_count": null,
      "outputs": []
    },
    {
      "cell_type": "code",
      "source": [
        "df[df['InvoiceNo'].str.startswith('C')].describe()"
      ],
      "metadata": {
        "id": "swUMOF-fx5qy",
        "trusted": true
      },
      "execution_count": null,
      "outputs": []
    },
    {
      "cell_type": "markdown",
      "source": [
        "Looks like Invoices that start with 'C' are the \"Canceling\"/\"Returning\" invoices. This resolves the mistery with negative quantities.\n",
        "\n",
        "Although, we should've gotten deeper into analysis of those returns, for the sake of simplicity let's just ignore those values for the moment.\n",
        "\n",
        "We can actually start a separate project based on that data and predict the returning/cancelling rates for the store."
      ],
      "metadata": {
        "id": "hq-lWQhUyQQR"
      }
    },
    {
      "cell_type": "code",
      "source": [
        "df = df[~df['InvoiceNo'].str.startswith('C')]"
      ],
      "metadata": {
        "id": "yJI3a_ew1OKp",
        "trusted": true
      },
      "execution_count": null,
      "outputs": []
    },
    {
      "cell_type": "code",
      "source": [
        "df.describe()"
      ],
      "metadata": {
        "id": "08Bdxo0m0neI",
        "trusted": true
      },
      "execution_count": null,
      "outputs": []
    },
    {
      "cell_type": "markdown",
      "source": [
        "During exploratory data analysis we can go back to the same operations and checks, just to understand how our actions affected the dataset. EDA is the series of repetitive tasks to understand better our data. And here, for example we get back to *.describe()* method to get an overall picture of our data after some manipulations.\n",
        "\n",
        "We still see negative quantities and negative prices, let's get into those records.\n",
        "\n"
      ],
      "metadata": {
        "id": "8czolNlTykMw"
      }
    },
    {
      "cell_type": "code",
      "source": [
        "# df[df['Quantity'] < 0]\n",
        "df[df['Quantity'] < 0].head()"
      ],
      "metadata": {
        "id": "A9i_--Qwq7Hm",
        "trusted": true
      },
      "execution_count": null,
      "outputs": []
    },
    {
      "cell_type": "markdown",
      "source": [
        "Here we can see that other \"Negative quantities\" appear to be damaged/lost/unknown items. Again, we will just ignore them for the sake of simplicity of analysis for this project."
      ],
      "metadata": {
        "id": "O7rxmQPd13Ob"
      }
    },
    {
      "cell_type": "code",
      "source": [
        "df = df[df['Quantity'] > 0]\n",
        "df.describe()"
      ],
      "metadata": {
        "id": "klcGgM0ZroQJ",
        "trusted": true
      },
      "execution_count": null,
      "outputs": []
    },
    {
      "cell_type": "markdown",
      "source": [
        "We also see negative UnitPrice, which is not normal as well. Let's check this out."
      ],
      "metadata": {
        "id": "wkKCHTG82aPC"
      }
    },
    {
      "cell_type": "code",
      "source": [
        "df[df['UnitPrice'] < 0].describe()"
      ],
      "metadata": {
        "id": "6inbAyKqrLlI",
        "trusted": true
      },
      "execution_count": null,
      "outputs": []
    },
    {
      "cell_type": "code",
      "source": [
        "df[df['UnitPrice'] == -11062.06]"
      ],
      "metadata": {
        "id": "acGrnc1WrVc7",
        "trusted": true
      },
      "execution_count": null,
      "outputs": []
    },
    {
      "cell_type": "markdown",
      "source": [
        "As there are just two rows, let's ignore them for the moment (description gives us enough warnings, althoug we still need some context to understand it better)"
      ],
      "metadata": {
        "id": "0wOWI0WT2k06"
      }
    },
    {
      "cell_type": "code",
      "source": [
        "df = df[df['UnitPrice'] > 0]\n",
        "df.describe()"
      ],
      "metadata": {
        "id": "etvXHm7K29rg",
        "trusted": true
      },
      "execution_count": null,
      "outputs": []
    },
    {
      "cell_type": "markdown",
      "source": [
        "As we have finished cleaning our data and removed all suspicious records we can start creating some new features for our model. Let's start with the most obvious one - Sales. We have quantities, we have prices - we can calculate the revenue."
      ],
      "metadata": {
        "id": "wPKW7_3kBDgp"
      }
    },
    {
      "cell_type": "code",
      "source": [
        "df['Sales'] = df['Quantity'] * df['UnitPrice']\n",
        "df.head()"
      ],
      "metadata": {
        "id": "S2AxwWDJ3OFO",
        "trusted": true
      },
      "execution_count": null,
      "outputs": []
    },
    {
      "cell_type": "markdown",
      "source": [
        "# 3. Visual EDA"
      ],
      "metadata": {
        "id": "gYqYN2LszQro"
      }
    },
    {
      "cell_type": "code",
      "source": [
        "plt.figure(figsize=(3,6))\n",
        "sns.countplot(df[df['Country'] == 'United Kingdom']['Country'])\n",
        "plt.xticks(rotation=90)"
      ],
      "metadata": {
        "id": "afZL4I1q6vlo",
        "trusted": true
      },
      "execution_count": null,
      "outputs": []
    },
    {
      "cell_type": "code",
      "source": [
        "plt.figure(figsize=(18,6))\n",
        "sns.countplot(df[df['Country'] != 'United Kingdom']['Country'])\n",
        "plt.xticks(rotation=90)"
      ],
      "metadata": {
        "id": "onb0ByML3dQe",
        "trusted": true
      },
      "execution_count": null,
      "outputs": []
    },
    {
      "cell_type": "code",
      "source": [
        "uk_count = df[df['Country'] == 'United Kingdom']['Country'].count()\n",
        "all_count = df['Country'].count()\n",
        "uk_perc = uk_count/all_count\n",
        "print(str('{0:.2f}%').format(uk_perc*100))"
      ],
      "metadata": {
        "id": "K79ODkHYznEr",
        "trusted": true
      },
      "execution_count": null,
      "outputs": []
    },
    {
      "cell_type": "markdown",
      "source": [
        "From above plots and calculations we can see that vast majority of sales were made in UK and just 8.49% went abroad. We can say our dataset is skewed to the UK side :D."
      ],
      "metadata": {
        "id": "zVPKRDC-zWAW"
      }
    },
    {
      "cell_type": "markdown",
      "source": [
        "## 3.1. Detecting outliers"
      ],
      "metadata": {
        "id": "uSCNB39c1p-K"
      }
    },
    {
      "cell_type": "markdown",
      "source": [
        "There are few different methods to detect outliers: box plots, using [IQR](https://en.wikipedia.org/wiki/Interquartile_range), scatter plot also works in some cases (and this is one of those). Also, detecting outliers using scatter plot is pretty intuitive. You plot your data and remove data points that visually are definitely out of range. Like in the chart below."
      ],
      "metadata": {
        "id": "fdI_wfVdBDgq"
      }
    },
    {
      "cell_type": "code",
      "source": [
        "plt.figure(figsize=(18,6))\n",
        "plt.scatter(x=df.index, y=df['Sales'])"
      ],
      "metadata": {
        "id": "n0tRONoX7zV8",
        "trusted": true
      },
      "execution_count": null,
      "outputs": []
    },
    {
      "cell_type": "markdown",
      "source": [
        "Let's remove obvious outliers"
      ],
      "metadata": {
        "id": "jB9G52F79ryZ"
      }
    },
    {
      "cell_type": "code",
      "source": [
        "df = df[df['Sales'] < 25000]\n",
        "plt.figure(figsize=(18,6))\n",
        "plt.scatter(x=df.index, y=df['Sales'])\n",
        "plt.xticks(rotation=90)"
      ],
      "metadata": {
        "id": "WxEj3y-z9zHj",
        "trusted": true
      },
      "execution_count": null,
      "outputs": []
    },
    {
      "cell_type": "markdown",
      "source": [
        "After removing obvious outliers we still see some values that are out of normal distribution. To understand better the distribution of our data let's check out different percentiles of our numeric features."
      ],
      "metadata": {
        "id": "il5rP2rR10ao"
      }
    },
    {
      "cell_type": "code",
      "source": [
        "df.quantile([0.05, 0.95, 0.98, 0.99, 0.999])"
      ],
      "metadata": {
        "id": "Wd6lkccmCXnY",
        "trusted": true
      },
      "execution_count": null,
      "outputs": []
    },
    {
      "cell_type": "markdown",
      "source": [
        "We can see that if we remove top 2% of our data points we will get rid of absolute outliers and will have more balaced dataset."
      ],
      "metadata": {
        "id": "e0Xyxllp2ZI2"
      }
    },
    {
      "cell_type": "code",
      "source": [
        "df_quantile = df[df['Sales'] < 125]\n",
        "plt.scatter(x=df_quantile.index, y=df_quantile['Sales'])\n",
        "plt.xticks(rotation=90)"
      ],
      "metadata": {
        "id": "ntKRBQa-MZEt",
        "trusted": true
      },
      "execution_count": null,
      "outputs": []
    },
    {
      "cell_type": "code",
      "source": [
        "df_quantile.describe()"
      ],
      "metadata": {
        "id": "BZ5zrj1JNaA7",
        "trusted": true
      },
      "execution_count": null,
      "outputs": []
    },
    {
      "cell_type": "markdown",
      "source": [
        "Looks like our data is almost ready for modelling. We performed a clean up, we removed outliers that were disturbing the balance of our dataset, we removed invalid records - now our data looks much better! and it doesn't lose it's value."
      ],
      "metadata": {
        "id": "69Wbf7pfBDgr"
      }
    },
    {
      "cell_type": "markdown",
      "source": [
        "## 3.2. Visually checking distribution of numeric features"
      ],
      "metadata": {
        "id": "PPX6LukY3Cpf"
      }
    },
    {
      "cell_type": "code",
      "source": [
        "plt.figure(figsize=(12,4))\n",
        "sns.distplot(df_quantile[df_quantile['UnitPrice'] < 10]['UnitPrice'].values, kde=True, bins=10)"
      ],
      "metadata": {
        "id": "zj1rJmD1NB8P",
        "trusted": true
      },
      "execution_count": null,
      "outputs": []
    },
    {
      "cell_type": "code",
      "source": [
        "plt.figure(figsize=(12,4))\n",
        "sns.distplot(df_quantile[df_quantile['UnitPrice'] < 5]['UnitPrice'].values, kde=True, bins=10, color='green')"
      ],
      "metadata": {
        "id": "iV5Lv1YXUonz",
        "trusted": true
      },
      "execution_count": null,
      "outputs": []
    },
    {
      "cell_type": "markdown",
      "source": [
        "From these histograms we can see that vast majority of items sold in this store has low price range - 0 to 3 pounds."
      ],
      "metadata": {
        "id": "T1KDS8spBDgr"
      }
    },
    {
      "cell_type": "code",
      "source": [
        "plt.figure(figsize=(12,4))\n",
        "sns.distplot(df_quantile[df_quantile['Quantity'] <= 30]['Quantity'], kde=True, bins=10, color='red')"
      ],
      "metadata": {
        "id": "MadAXAn0TuCZ",
        "trusted": true
      },
      "execution_count": null,
      "outputs": []
    },
    {
      "cell_type": "code",
      "source": [
        "plt.figure(figsize=(12,4))\n",
        "sns.distplot(df_quantile[df_quantile['Quantity'] <= 15]['Quantity'], kde=True, bins=10, color='orange')"
      ],
      "metadata": {
        "id": "uDPI8FLbUxRl",
        "trusted": true
      },
      "execution_count": null,
      "outputs": []
    },
    {
      "cell_type": "markdown",
      "source": [
        "From these histograms we that people bought normally 1-5 items or 10-12 - maybe there were some kind of offers for sets?"
      ],
      "metadata": {
        "id": "V7DVKb9_BDgr"
      }
    },
    {
      "cell_type": "code",
      "source": [
        "plt.figure(figsize=(12,4))\n",
        "sns.distplot(df_quantile[df_quantile['Sales'] < 60]['Sales'], kde=True, bins=10, color='purple')"
      ],
      "metadata": {
        "id": "NUSMODaWUXgm",
        "trusted": true
      },
      "execution_count": null,
      "outputs": []
    },
    {
      "cell_type": "code",
      "source": [
        "plt.figure(figsize=(12,4))\n",
        "sns.distplot(df_quantile[df_quantile['Sales'] < 30]['Sales'], kde=True, bins=10, color='grey')"
      ],
      "metadata": {
        "id": "271Hrgm-U5FK",
        "trusted": true
      },
      "execution_count": null,
      "outputs": []
    },
    {
      "cell_type": "markdown",
      "source": [
        "From these histograms we can understand that majority of sales per order were in range 1-15 pounds each."
      ],
      "metadata": {
        "id": "KrSwdpF3BDgs"
      }
    },
    {
      "cell_type": "markdown",
      "source": [
        "## 3.3. Analysing sales over time"
      ],
      "metadata": {
        "id": "MNCUZ2DO3mHM"
      }
    },
    {
      "cell_type": "code",
      "source": [
        "df_ts = df[['Sales']]\n",
        "df_ts.head()"
      ],
      "metadata": {
        "id": "KCPCF-ZsDHpL",
        "trusted": true
      },
      "execution_count": null,
      "outputs": []
    },
    {
      "cell_type": "markdown",
      "source": [
        "As we can see every invoice has it's own timestamp (definitely based on time the order was made). We can resample time data by, for example weeks, and try see if there is any patterns in our sales."
      ],
      "metadata": {
        "id": "0RgHhvN7BDgs"
      }
    },
    {
      "cell_type": "code",
      "source": [
        "plt.figure(figsize=(18,6))\n",
        "df_resample = df_ts.resample('W').sum()\n",
        "df_resample.plot()"
      ],
      "metadata": {
        "id": "k9vEWHcHEaND",
        "trusted": true
      },
      "execution_count": null,
      "outputs": []
    },
    {
      "cell_type": "markdown",
      "source": [
        "That week with 0 sales in January looks suspicious, let's check it closer"
      ],
      "metadata": {
        "id": "zFi5bGs534oQ"
      }
    },
    {
      "cell_type": "code",
      "source": [
        "df_resample['12-2010':'01-2011']"
      ],
      "metadata": {
        "id": "1QXCBgf8WQUD",
        "trusted": true
      },
      "execution_count": null,
      "outputs": []
    },
    {
      "cell_type": "markdown",
      "source": [
        "Now it makes sense - possibly, during the New Year holidays period the store was closed and didn't process orders, that's why they didn't make any sales."
      ],
      "metadata": {
        "id": "U7o8UfRB4GLy"
      }
    },
    {
      "cell_type": "markdown",
      "source": [
        "# 4. Preparing data for modeling and feature creation"
      ],
      "metadata": {
        "id": "NIpdfJcS4mbx"
      }
    },
    {
      "cell_type": "markdown",
      "source": [
        "Now it comes the most fun part of the project - building a model. To do this we will need to create few more additional features to make our model more sophisticated."
      ],
      "metadata": {
        "id": "zprRcmCYBDgt"
      }
    },
    {
      "cell_type": "code",
      "source": [
        "df_clean = df[df['UnitPrice'] < 15]\n",
        "df_clean.describe()"
      ],
      "metadata": {
        "id": "Z26VIUm8VJ0M",
        "trusted": true
      },
      "execution_count": null,
      "outputs": []
    },
    {
      "cell_type": "code",
      "source": [
        "df_clean.index"
      ],
      "metadata": {
        "id": "4ddHzAzmkAx9",
        "trusted": true
      },
      "execution_count": null,
      "outputs": []
    },
    {
      "cell_type": "markdown",
      "source": [
        "## 4.1. Quantity per invoice feature"
      ],
      "metadata": {
        "id": "IJST6pYl47s6"
      }
    },
    {
      "cell_type": "markdown",
      "source": [
        "A feature that could influence the sales output could be \"Quantity per invoice\". Let's find the data for this feature."
      ],
      "metadata": {
        "id": "WBlPYyhTBDgu"
      }
    },
    {
      "cell_type": "code",
      "source": [
        "df_join = df_clean.groupby('InvoiceNo')[['Quantity']].sum()"
      ],
      "metadata": {
        "id": "XeL8mapkXU3c",
        "trusted": true
      },
      "execution_count": null,
      "outputs": []
    },
    {
      "cell_type": "code",
      "source": [
        "df_join = df_join.reset_index()\n",
        "df_join.head()"
      ],
      "metadata": {
        "id": "yB4Fqi0qf-tx",
        "trusted": true
      },
      "execution_count": null,
      "outputs": []
    },
    {
      "cell_type": "code",
      "source": [
        "df_clean['InvoiceDate'] = df_clean.index\n",
        "df_clean = df_clean.merge(df_join, how='left', on='InvoiceNo')\n",
        "df_clean = df_clean.rename(columns={'Quantity_x' : 'Quantity', 'Quantity_y' : 'QuantityInv'})\n",
        "df_clean.tail(15)"
      ],
      "metadata": {
        "id": "4q88pvAuX2Rh",
        "trusted": true
      },
      "execution_count": null,
      "outputs": []
    },
    {
      "cell_type": "code",
      "source": [
        "df_clean.describe()"
      ],
      "metadata": {
        "id": "FkOT2yPciD0Q",
        "trusted": true
      },
      "execution_count": null,
      "outputs": []
    },
    {
      "cell_type": "code",
      "source": [
        "df_clean['InvoiceDate'] = pd.to_datetime(df_clean['InvoiceDate'])"
      ],
      "metadata": {
        "id": "DDzWZ6K_o4z0",
        "trusted": true
      },
      "execution_count": null,
      "outputs": []
    },
    {
      "cell_type": "code",
      "source": [
        "df_clean.dtypes"
      ],
      "metadata": {
        "id": "2tQTQyu4pBaf",
        "trusted": true
      },
      "execution_count": null,
      "outputs": []
    },
    {
      "cell_type": "markdown",
      "source": [
        "## 4.2. Bucketizing Quantity and UnitPrice features"
      ],
      "metadata": {
        "id": "BirwPlbT5SRb"
      }
    },
    {
      "cell_type": "markdown",
      "source": [
        "Based on the EDA done previously we can group these features into 6 buckets for Quantity and 5 for UnitePrice using pandas .cut() method."
      ],
      "metadata": {
        "id": "AOfQmYrH5fxk"
      }
    },
    {
      "cell_type": "code",
      "source": [
        "bins_q = pd.IntervalIndex.from_tuples([(0, 2), (2, 5), (5, 8), (8, 11), (11, 14), (15, 5000)])\n",
        "df_clean['QuantityRange'] = pd.cut(df_clean['Quantity'], bins=bins_q)\n",
        "bins_p = pd.IntervalIndex.from_tuples([(0, 1), (1, 2), (2, 3), (3, 4), (4, 20)])\n",
        "df_clean['PriceRange'] = pd.cut(df_clean['UnitPrice'], bins=bins_p)\n",
        "df_clean.head()"
      ],
      "metadata": {
        "id": "PxLoYdjImDsy",
        "trusted": true
      },
      "execution_count": null,
      "outputs": []
    },
    {
      "cell_type": "markdown",
      "source": [
        "## 4.3. Extracting and bucketizing dates"
      ],
      "metadata": {
        "id": "v66wi4HE59RQ"
      }
    },
    {
      "cell_type": "markdown",
      "source": [
        "We have noticed that depends on a season gifts sell differently: pick of sales is in the Q4, then it drastically drops in Q1 of the next year and continues to grow till its new pick in Q4 again. From this observation we can create another feature that could improve our model."
      ],
      "metadata": {
        "id": "FOZtgaSQ6McM"
      }
    },
    {
      "cell_type": "code",
      "source": [
        "df_clean['Month'] = df_clean['InvoiceDate'].dt.month\n",
        "df_clean.head()"
      ],
      "metadata": {
        "id": "yBChTJkks6Pq",
        "trusted": true
      },
      "execution_count": null,
      "outputs": []
    },
    {
      "cell_type": "code",
      "source": [
        "bins_d = pd.IntervalIndex.from_tuples([(0,3),(3,6),(6,9),(9,12)])\n",
        "df_clean['DateRange'] = pd.cut(df_clean['Month'], bins=bins_d, labels=['q1','q2','q3','q4'])\n",
        "df_clean.tail()"
      ],
      "metadata": {
        "id": "jxsN8XZVqmgU",
        "trusted": true
      },
      "execution_count": null,
      "outputs": []
    },
    {
      "cell_type": "markdown",
      "source": [
        "# 5. Building a model"
      ],
      "metadata": {
        "id": "VV_-KJsD8AMi"
      }
    },
    {
      "cell_type": "markdown",
      "source": [
        "## 5.1. Splitting data into UK and non-UK"
      ],
      "metadata": {
        "id": "zoj-cC6N6wHN"
      }
    },
    {
      "cell_type": "markdown",
      "source": [
        "We have to analyze these 2 datasets separately to have more standardized data for a model, because there can be some patterns that work for other countries and do not for UK or vise versa. Also a hypothesis to test - does the model built for UK performs good on data for other countries?"
      ],
      "metadata": {
        "id": "LCuO7Bdz64di"
      }
    },
    {
      "cell_type": "code",
      "source": [
        "df_uk = df_clean[df_clean['Country'] == 'United Kingdom']\n",
        "df_abroad = df_clean[df_clean['Country'] != 'United Kingdom']"
      ],
      "metadata": {
        "id": "xmWtfOhCvdft",
        "trusted": true
      },
      "execution_count": null,
      "outputs": []
    },
    {
      "cell_type": "code",
      "source": [
        "df_uk.head()"
      ],
      "metadata": {
        "id": "Jr4lhQyFvsH0",
        "trusted": true
      },
      "execution_count": null,
      "outputs": []
    },
    {
      "cell_type": "markdown",
      "source": [
        "## 5.2. Extracting features and creating dummy variables"
      ],
      "metadata": {
        "id": "7m7-iaA-8HMk"
      }
    },
    {
      "cell_type": "code",
      "source": [
        "df_uk_model = df_uk[['Sales', 'QuantityInv', 'QuantityRange', 'PriceRange', 'DateRange']]\n",
        "df_uk_model.head()"
      ],
      "metadata": {
        "id": "0J8hPy4HwW0X",
        "trusted": true
      },
      "execution_count": null,
      "outputs": []
    },
    {
      "cell_type": "code",
      "source": [
        "df_data = df_uk_model.copy()\n",
        "df_data = pd.get_dummies(df_data, columns=['QuantityRange'], prefix='qr')\n",
        "df_data = pd.get_dummies(df_data, columns=['PriceRange'], prefix='pr')\n",
        "df_data = pd.get_dummies(df_data, columns=['DateRange'], prefix='dr')\n",
        "df_data.head()"
      ],
      "metadata": {
        "id": "SZRq6C640Blc",
        "trusted": true
      },
      "execution_count": null,
      "outputs": []
    },
    {
      "cell_type": "markdown",
      "source": [
        "## 5.3. Scaling"
      ],
      "metadata": {
        "id": "f-SPb1vS8WJp"
      }
    },
    {
      "cell_type": "markdown",
      "source": [
        "As the majority of our features are in 0-1 range it would make sense to scale \"QuantityInv\" feature too. In general, scaling features is normally a good idea."
      ],
      "metadata": {
        "id": "VNCqjt8WBDgw"
      }
    },
    {
      "cell_type": "code",
      "source": [
        "from sklearn.preprocessing import scale\n",
        "df_data['QuantityInv'] = scale(df_data['QuantityInv'])"
      ],
      "metadata": {
        "id": "pZknqQll1XwF",
        "trusted": true
      },
      "execution_count": null,
      "outputs": []
    },
    {
      "cell_type": "markdown",
      "source": [
        "## 5.4. Train-Test Split"
      ],
      "metadata": {
        "id": "ubjfXWh18gyd"
      }
    },
    {
      "cell_type": "markdown",
      "source": [
        "Now we have to split our data into train-test data to be able to train our model and validate its capabilities."
      ],
      "metadata": {
        "id": "jlE8Q61CBDgy"
      }
    },
    {
      "cell_type": "code",
      "source": [
        "y = df_data['Sales']\n",
        "X = df_data.drop(columns=['Sales'])"
      ],
      "metadata": {
        "id": "PzvfoUoP1x3_",
        "trusted": true
      },
      "execution_count": null,
      "outputs": []
    },
    {
      "cell_type": "code",
      "source": [
        "from sklearn.model_selection import train_test_split\n",
        "X_train, X_test, y_train, y_test = train_test_split(X, y, test_size = 0.20, random_state=42)"
      ],
      "metadata": {
        "id": "PgddlfS31-EG",
        "trusted": true
      },
      "execution_count": null,
      "outputs": []
    },
    {
      "cell_type": "markdown",
      "source": [
        "## 5.5. Testing and validating different models"
      ],
      "metadata": {
        "id": "PuVn7UAz8vU0"
      }
    },
    {
      "cell_type": "markdown",
      "source": [
        "Here we use GridSearch and CrossValidation to test three types of regressors: Linear, DecisionTree and RandomForest. This can take a while..."
      ],
      "metadata": {
        "id": "WiERsM6cBDgz"
      }
    },
    {
      "cell_type": "code",
      "source": [
        "from sklearn.model_selection import KFold\n",
        "from sklearn.linear_model import LinearRegression\n",
        "from sklearn.tree import DecisionTreeRegressor\n",
        "from sklearn.ensemble import RandomForestRegressor\n",
        "\n",
        "from sklearn.model_selection import GridSearchCV\n",
        "\n",
        "from sklearn.metrics import mean_absolute_error\n",
        "from sklearn.metrics import mean_squared_error\n",
        "from sklearn.metrics import r2_score\n",
        "\n",
        "# Linear Regression\n",
        "fit_intercepts = [True, False]\n",
        "param_grid_linear = dict(fit_intercept=fit_intercepts)\n",
        "linear_model = LinearRegression()\n",
        "\n",
        "# Decision Tree\n",
        "min_tree_splits = range(2,3)\n",
        "min_tree_leaves = range(2,3)\n",
        "param_grid_tree = dict(min_samples_split=min_tree_splits,\n",
        "                       min_samples_leaf=min_tree_leaves)\n",
        "tree_model = DecisionTreeRegressor()\n",
        "\n",
        "# Random Forest\n",
        "estimators_space = [100]\n",
        "min_sample_splits = range(2,4)\n",
        "min_sample_leaves = range(2,3)\n",
        "param_grid_forest = dict(min_samples_split=min_sample_splits,\n",
        "                       min_samples_leaf=min_sample_leaves,\n",
        "                       n_estimators=estimators_space)\n",
        "forest_model = RandomForestRegressor()\n",
        "\n",
        "cv = 5\n",
        "\n",
        "models_to_test = ['LinearRegression','DecisionTreeRegressor','RandomForest']\n",
        "regression_dict = dict(LinearRegression=linear_model,\n",
        "                       DecisionTreeRegressor=tree_model,\n",
        "                       RandomForest=forest_model)\n",
        "param_grid_dict = dict(LinearRegression=param_grid_linear,\n",
        "                       DecisionTreeRegressor=param_grid_tree,\n",
        "                       RandomForest=param_grid_forest)\n",
        "\n",
        "score_dict = {}\n",
        "params_dict = {}\n",
        "mae_dict = {}\n",
        "mse_dict = {}\n",
        "r2_dict = {}\n",
        "best_est_dict = {}\n",
        "\n",
        "for model in models_to_test:\n",
        "  regressor = GridSearchCV(regression_dict[model], param_grid_dict[model], cv=cv, n_jobs=-1)\n",
        "\n",
        "  regressor.fit(X_train, y_train)\n",
        "  y_pred = regressor.predict(X_test)\n",
        "\n",
        "  # Print the tuned parameters and score\n",
        "  print(\" === Start report for regressor {} ===\".format(model))\n",
        "  score_dict[model] = regressor.best_score_\n",
        "  print(\"Tuned Parameters: {}\".format(regressor.best_params_))\n",
        "  params_dict = regressor.best_params_\n",
        "  print(\"Best score is {}\".format(regressor.best_score_))\n",
        "\n",
        "  # Compute metrics\n",
        "  mae_dict[model] = mean_absolute_error(y_test, y_pred)\n",
        "  print(\"MAE for {}\".format(model))\n",
        "  print(mean_absolute_error(y_test, y_pred))\n",
        "  mse_dict[model] = mean_squared_error(y_test, y_pred)\n",
        "  print(\"MSE for {}\".format(model))\n",
        "  print(mean_squared_error(y_test, y_pred))\n",
        "  r2_dict[model] = r2_score(y_test, y_pred)\n",
        "  print(\"R2 score for {}\".format(model))\n",
        "  print(r2_score(y_test, y_pred))\n",
        "  print(\" === End of report for regressor {} === \\n\".format(model))\n",
        "\n",
        "  # Add best estimator to the dict\n",
        "  best_est_dict[model] = regressor.best_estimator_\n",
        "\n"
      ],
      "metadata": {
        "id": "5tvAeU4J2NgQ",
        "trusted": true
      },
      "execution_count": null,
      "outputs": []
    },
    {
      "cell_type": "code",
      "source": [
        "# Creating summary report\n",
        "summary_cols = ['Best Score']\n",
        "summary = pd.DataFrame.from_dict(r2_dict, orient='index')\n",
        "summary.index.name = 'Regressor'\n",
        "summary.columns = summary_cols\n",
        "summary = summary.reset_index()\n",
        "\n",
        "# Visualizing results\n",
        "plt.figure(figsize=(12,4))\n",
        "plt.xlabel('Best score')\n",
        "plt.title('Regressor Comparison')\n",
        "\n",
        "sns.barplot(x='Best Score', y='Regressor', data=summary)"
      ],
      "metadata": {
        "id": "SwIYIT1QC4yS",
        "trusted": true
      },
      "execution_count": null,
      "outputs": []
    },
    {
      "cell_type": "markdown",
      "source": [
        "# Conclusions\n"
      ],
      "metadata": {
        "id": "ns3-4B4sD5pe"
      }
    },
    {
      "cell_type": "markdown",
      "source": [
        "This is a basic analysis of a transactions dataset with a model that predicts sales. Still a lot of things can be improved:\n",
        "\n",
        "\n",
        "*   Perform cluster analysis and create features based on it\n",
        "*   Make a deeper split of dates\n",
        "*   Get more insights from Descriptions and Stock numbers\n",
        "*   Compare domestic and abroad sales\n",
        "*   Try deep learning models\n",
        "\n",
        "Also we can play much more with tuning of hyperparameters of our models and give it more time for training.\n",
        "\n",
        "Random Forest Regressor appears to be the best model for our prediction with R2 score more than 0.6 which is not that bad.\n",
        "\n"
      ],
      "metadata": {
        "id": "anKJ0JZFELV4"
      }
    }
  ]
}